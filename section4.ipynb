{
 "metadata": {
  "language_info": {
   "codemirror_mode": {
    "name": "ipython",
    "version": 3
   },
   "file_extension": ".py",
   "mimetype": "text/x-python",
   "name": "python",
   "nbconvert_exporter": "python",
   "pygments_lexer": "ipython3",
   "version": "3.7.1-final"
  },
  "orig_nbformat": 2,
  "kernelspec": {
   "name": "python3",
   "display_name": "Python 3"
  }
 },
 "nbformat": 4,
 "nbformat_minor": 2,
 "cells": [
  {
   "source": [
    "# 第4章 設計技法(2)：再起と分割統治法"
   ],
   "cell_type": "markdown",
   "metadata": {}
  },
  {
   "source": [
    "## 4.1"
   ],
   "cell_type": "markdown",
   "metadata": {}
  },
  {
   "source": [
    "\n",
    "# トリボナッチ\n",
    "def tribonacci(n):\n",
    "    if (n == 0) or (n == 1):\n",
    "        return 0\n",
    "    elif n == 2:\n",
    "        return 1\n",
    "    else:\n",
    "        return tribonacci(n-1) + tribonacci(n-2) + tribonacci(n-3)"
   ],
   "cell_type": "code",
   "metadata": {},
   "execution_count": 1,
   "outputs": []
  },
  {
   "cell_type": "code",
   "execution_count": 2,
   "metadata": {},
   "outputs": [
    {
     "output_type": "execute_result",
     "data": {
      "text/plain": [
       "44"
      ]
     },
     "metadata": {},
     "execution_count": 2
    }
   ],
   "source": [
    "tribonacci(9)"
   ]
  },
  {
   "source": [
    "## 4.2"
   ],
   "cell_type": "markdown",
   "metadata": {}
  },
  {
   "cell_type": "code",
   "execution_count": 21,
   "metadata": {},
   "outputs": [],
   "source": [
    "# 4.1のメモ化\n",
    "class Tribo_memo:\n",
    "    def __init__(self):\n",
    "        self.tribo_memo = {}\n",
    "\n",
    "    def cal_tribo(self, n):\n",
    "        # ベースケース\n",
    "        if (n == 0) or (n == 1):\n",
    "            self.tribo_memo[n] = 0\n",
    "            return self.tribo_memo[n]\n",
    "        if n == 2:\n",
    "            self.tribo_memo[n] = 1\n",
    "            return self.tribo_memo[n]\n",
    "        \n",
    "        # memo確認\n",
    "        if n in self.tribo_memo.keys():\n",
    "            return self.tribo_memo[n]\n",
    "        \n",
    "        # 漸化式計算\n",
    "        self.tribo_memo[n] = self.cal_tribo(n-1) + self.cal_tribo(n-2) + self.cal_tribo(n-3)\n",
    "        return self.tribo_memo[n]"
   ]
  },
  {
   "cell_type": "code",
   "execution_count": 23,
   "metadata": {},
   "outputs": [
    {
     "output_type": "execute_result",
     "data": {
      "text/plain": [
       "44"
      ]
     },
     "metadata": {},
     "execution_count": 23
    }
   ],
   "source": [
    "tribo = Tribo_memo()\n",
    "tribo.cal_tribo(9)"
   ]
  },
  {
   "source": [
    "## 4.3\n",
    "帰納法ですぐに分かる"
   ],
   "cell_type": "markdown",
   "metadata": {}
  },
  {
   "source": [
    "## 4.4\n",
    "再帰呼び出し以外は、Nに依らない定数回しか計算してないので、再帰で関数を何回呼び出したのかを数えれば計算量がわかる。\n",
    "F_Nを計算する際に、関数を呼び出した回数をS_Nとおく。\n",
    "このとき、S_0 = S_1 = 1, S_N = S_{N-1} + S_{N-2} + 1 となるので、S_N = 2*F_N - 1となる。\n",
    "4.3のフィボナッチ数列の一般項から、S_N = O(((1+√5)/2)^N)がわかる。"
   ],
   "cell_type": "markdown",
   "metadata": {}
  },
  {
   "source": [
    "## 4.5"
   ],
   "cell_type": "markdown",
   "metadata": {}
  },
  {
   "source": [
    "## 4.6"
   ],
   "cell_type": "markdown",
   "metadata": {}
  },
  {
   "source": [
    "# 4.6(pre)\n",
    "def par_sum(i, w, a):\n",
    "    # ベースケース\n",
    "    if i == 0:\n",
    "        if w == 0:\n",
    "            return True\n",
    "        else:\n",
    "            return False\n",
    "\n",
    "    if par_sum(i-1, w, a):\n",
    "        return True\n",
    "    elif par_sum(i-1, w-a[i-1], a):\n",
    "        return True\n",
    "    else:\n",
    "        return False"
   ],
   "cell_type": "code",
   "metadata": {},
   "execution_count": null,
   "outputs": []
  },
  {
   "cell_type": "code",
   "execution_count": 27,
   "metadata": {},
   "outputs": [
    {
     "output_type": "execute_result",
     "data": {
      "text/plain": [
       "True"
      ]
     },
     "metadata": {},
     "execution_count": 27
    }
   ],
   "source": [
    "N, W = 4, 14\n",
    "a = [3,2,6,5]\n",
    "\n",
    "par_sum(N, W, a)"
   ]
  },
  {
   "cell_type": "code",
   "execution_count": 28,
   "metadata": {},
   "outputs": [],
   "source": [
    "# 4.6\n",
    "class Par_memo:\n",
    "    def __init__(self):\n",
    "        self.par_memo = {}\n",
    "\n",
    "    def cal_par(self, i, w, a):\n",
    "        # ベースケース\n",
    "        if i == 0:\n",
    "            if w == 0:\n",
    "                self.par_memo[(i,w)] = True\n",
    "            else:\n",
    "                self.par_memo[(i,w)] = False\n",
    "            return self.par_memo[(i,w)]\n",
    "        \n",
    "        # memo確認\n",
    "        if (i,w) in self.par_memo.keys():\n",
    "            return self.par_memo[(i,w)]\n",
    "        \n",
    "        # 部分問題に分解\n",
    "        if self.cal_par(i-1, w, a) or self.cal_par(i-1, w-a[i-1], a):\n",
    "            self.par_memo[(i,w)] = True\n",
    "        else:\n",
    "            self.par_memo[(i,w)] = False\n",
    "        return self.par_memo[(i,w)]"
   ]
  },
  {
   "cell_type": "code",
   "execution_count": 29,
   "metadata": {},
   "outputs": [
    {
     "output_type": "execute_result",
     "data": {
      "text/plain": [
       "True"
      ]
     },
     "metadata": {},
     "execution_count": 29
    }
   ],
   "source": [
    "N, W = 4, 14\n",
    "a = [3,2,6,5]\n",
    "\n",
    "par = Par_memo()\n",
    "par.cal_par(N, W, a)"
   ]
  },
  {
   "cell_type": "code",
   "execution_count": null,
   "metadata": {},
   "outputs": [],
   "source": []
  }
 ]
}