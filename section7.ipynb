{
 "metadata": {
  "language_info": {
   "codemirror_mode": {
    "name": "ipython",
    "version": 3
   },
   "file_extension": ".py",
   "mimetype": "text/x-python",
   "name": "python",
   "nbconvert_exporter": "python",
   "pygments_lexer": "ipython3",
   "version": "3.7.1-final"
  },
  "orig_nbformat": 2,
  "kernelspec": {
   "name": "python3",
   "display_name": "Python 3"
  }
 },
 "nbformat": 4,
 "nbformat_minor": 2,
 "cells": [
  {
   "source": [
    "# 第7章 設計技法(5)：貪欲法"
   ],
   "cell_type": "markdown",
   "metadata": {}
  },
  {
   "source": [
    "## 7.3"
   ],
   "cell_type": "markdown",
   "metadata": {}
  },
  {
   "cell_type": "code",
   "execution_count": 48,
   "metadata": {},
   "outputs": [],
   "source": [
    "N = 5\n",
    "d = [1,2,1,2,1]\n",
    "t = [1,5,6,9,3]"
   ]
  },
  {
   "cell_type": "code",
   "execution_count": 49,
   "metadata": {},
   "outputs": [],
   "source": [
    "td_t_d = [[t[i] - d[i], t[i], d[i]] for i in range(N)]\n",
    "# t-dで昇順でソートする\n",
    "s_td_t_d = sorted(td_t_d)\n",
    "# 仕事を始めないといけない時間\n",
    "s_td = [s_td_t_d[i][0] for i in range(N)]\n",
    "s_t = [s_td_t_d[i][1] for i in range(N)]\n",
    "s_d = [s_td_t_d[i][2] for i in range(N)]\n",
    "\n",
    "# 現在時刻\n",
    "timer = 0\n",
    "ans = True\n",
    "for i in range(N):\n",
    "    # 現在時刻がi番目の仕事を始めないといけない時間前ならば\n",
    "    if timer <= s_td[i]:\n",
    "        # d[i]時間使って仕事をする\n",
    "        timer += s_d[i]\n",
    "    else:\n",
    "        # そうでなければ時間切れ\n",
    "        ans = False"
   ]
  },
  {
   "cell_type": "code",
   "execution_count": 50,
   "metadata": {},
   "outputs": [
    {
     "output_type": "execute_result",
     "data": {
      "text/plain": [
       "True"
      ]
     },
     "metadata": {},
     "execution_count": 50
    }
   ],
   "source": [
    "ans"
   ]
  },
  {
   "cell_type": "code",
   "execution_count": null,
   "metadata": {},
   "outputs": [],
   "source": []
  }
 ]
}