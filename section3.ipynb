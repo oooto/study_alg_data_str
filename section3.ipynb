{
 "metadata": {
  "language_info": {
   "codemirror_mode": {
    "name": "ipython",
    "version": 3
   },
   "file_extension": ".py",
   "mimetype": "text/x-python",
   "name": "python",
   "nbconvert_exporter": "python",
   "pygments_lexer": "ipython3",
   "version": "3.7.1-final"
  },
  "orig_nbformat": 2,
  "kernelspec": {
   "name": "python3",
   "display_name": "Python 3"
  }
 },
 "nbformat": 4,
 "nbformat_minor": 2,
 "cells": [
  {
   "source": [
    "# 第3章 設計技法(1)：全探索"
   ],
   "cell_type": "markdown",
   "metadata": {}
  },
  {
   "source": [
    "## 3.1\n",
    "確認するだけなので飛ばす"
   ],
   "cell_type": "markdown",
   "metadata": {}
  },
  {
   "source": [
    "## 3.2"
   ],
   "cell_type": "markdown",
   "metadata": {}
  },
  {
   "cell_type": "code",
   "execution_count": 1,
   "metadata": {},
   "outputs": [],
   "source": [
    "def cnt_v(a,v):\n",
    "    cnt = 0\n",
    "    for num in a:\n",
    "        if num == v:\n",
    "            cnt += 1\n",
    "    return cnt"
   ]
  },
  {
   "cell_type": "code",
   "execution_count": 2,
   "metadata": {},
   "outputs": [
    {
     "output_type": "execute_result",
     "data": {
      "text/plain": [
       "2"
      ]
     },
     "metadata": {},
     "execution_count": 2
    }
   ],
   "source": [
    "a = [1,2,3,4,5,4,3,2,1]\n",
    "v = 1\n",
    "cnt_v(a,v)"
   ]
  },
  {
   "source": [
    "## 3.3"
   ],
   "cell_type": "markdown",
   "metadata": {}
  },
  {
   "cell_type": "code",
   "execution_count": 3,
   "metadata": {},
   "outputs": [],
   "source": [
    "def second_min(a):\n",
    "    min = a[0]\n",
    "    if a[1] < min:\n",
    "        sec_min = a[0]\n",
    "        min = a[1]\n",
    "    else:\n",
    "        sec_min = a[1]\n",
    "    \n",
    "    for i in range(2, len(a)):\n",
    "        if a[i] < min:\n",
    "            sec_min = min\n",
    "            min = a[i]\n",
    "        elif a[i] < sec_min:\n",
    "            sec_min = a[i]\n",
    "        else:\n",
    "            pass\n",
    "    return sec_min"
   ]
  },
  {
   "cell_type": "code",
   "execution_count": 4,
   "metadata": {},
   "outputs": [
    {
     "output_type": "execute_result",
     "data": {
      "text/plain": [
       "2"
      ]
     },
     "metadata": {},
     "execution_count": 4
    }
   ],
   "source": [
    "a = [1,3,4,5,6,7,2]\n",
    "second_min(a)"
   ]
  },
  {
   "source": [
    "## 3.4"
   ],
   "cell_type": "markdown",
   "metadata": {}
  },
  {
   "cell_type": "code",
   "execution_count": 1,
   "metadata": {},
   "outputs": [],
   "source": [
    "def max_diff(a):\n",
    "    max = -float('inf')\n",
    "    min = float('inf')\n",
    "    for val in a:\n",
    "        if max < val:\n",
    "            max = val\n",
    "        if min > val:\n",
    "            min = val\n",
    "    return max - min"
   ]
  },
  {
   "cell_type": "code",
   "execution_count": 2,
   "metadata": {},
   "outputs": [
    {
     "output_type": "execute_result",
     "data": {
      "text/plain": [
       "6"
      ]
     },
     "metadata": {},
     "execution_count": 2
    }
   ],
   "source": [
    "a = [1,3,4,5,6,7,2]\n",
    "max_diff(a)"
   ]
  },
  {
   "source": [
    "## 3.5"
   ],
   "cell_type": "markdown",
   "metadata": {}
  },
  {
   "cell_type": "code",
   "execution_count": 3,
   "metadata": {},
   "outputs": [],
   "source": [
    "def shift_cnt(a):\n",
    "    cnt = 0\n",
    "    check = [0 for i in range(len(a))]\n",
    "    quo = a\n",
    "    rem = [0 for i in range(len(a))]\n",
    "\n",
    "    while rem == check:\n",
    "        rem = [val % 2 for val in quo]\n",
    "        if rem == check:\n",
    "            cnt += 1\n",
    "            quo = [val // 2 for val in quo]\n",
    "    return cnt"
   ]
  },
  {
   "cell_type": "code",
   "execution_count": 5,
   "metadata": {},
   "outputs": [
    {
     "output_type": "execute_result",
     "data": {
      "text/plain": [
       "2"
      ]
     },
     "metadata": {},
     "execution_count": 5
    }
   ],
   "source": [
    "a = [4,8,4,32,64,24,36]\n",
    "shift_cnt(a)"
   ]
  },
  {
   "source": [
    "## 3.6"
   ],
   "cell_type": "markdown",
   "metadata": {}
  },
  {
   "cell_type": "code",
   "execution_count": 6,
   "metadata": {},
   "outputs": [],
   "source": [
    "def dio_sol_cnt(K,N):\n",
    "    cnt = 0\n",
    "    for x in range(K):\n",
    "        for y in range(K):\n",
    "            z = N - x - y\n",
    "            if (z >= 0) and (z <= K):\n",
    "                cnt += 1\n",
    "    return cnt"
   ]
  },
  {
   "cell_type": "code",
   "execution_count": 8,
   "metadata": {},
   "outputs": [
    {
     "output_type": "execute_result",
     "data": {
      "text/plain": [
       "66"
      ]
     },
     "metadata": {},
     "execution_count": 8
    }
   ],
   "source": [
    "dio_sol_cnt(1000, 10)"
   ]
  },
  {
   "source": [
    "## 3.7"
   ],
   "cell_type": "markdown",
   "metadata": {}
  },
  {
   "cell_type": "code",
   "execution_count": null,
   "metadata": {},
   "outputs": [],
   "source": []
  }
 ]
}