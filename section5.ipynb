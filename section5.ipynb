{
 "metadata": {
  "language_info": {
   "codemirror_mode": {
    "name": "ipython",
    "version": 3
   },
   "file_extension": ".py",
   "mimetype": "text/x-python",
   "name": "python",
   "nbconvert_exporter": "python",
   "pygments_lexer": "ipython3",
   "version": "3.7.1-final"
  },
  "orig_nbformat": 2,
  "kernelspec": {
   "name": "python3",
   "display_name": "Python 3"
  }
 },
 "nbformat": 4,
 "nbformat_minor": 2,
 "cells": [
  {
   "source": [
    "# 第5章 設計技法(3)：動的計画法"
   ],
   "cell_type": "markdown",
   "metadata": {}
  },
  {
   "source": [
    "## 5.1"
   ],
   "cell_type": "markdown",
   "metadata": {}
  },
  {
   "cell_type": "code",
   "execution_count": 55,
   "metadata": {},
   "outputs": [],
   "source": [
    "N = 5\n",
    "a = [1,2,3,4,5]\n",
    "b = [5,4,3,2,1]\n",
    "c = [3,3,3,3,3]"
   ]
  },
  {
   "cell_type": "code",
   "execution_count": 56,
   "metadata": {},
   "outputs": [],
   "source": [
    "dp = {\n",
    "    \"a\": [-float('inf') for i in range(N)],\n",
    "    \"b\": [-float('inf') for i in range(N)],\n",
    "    \"c\": [-float('inf') for i in range(N)]\n",
    "}"
   ]
  },
  {
   "cell_type": "code",
   "execution_count": 57,
   "metadata": {},
   "outputs": [],
   "source": [
    "dp[\"a\"][0] = max(dp[\"a\"][0], a[0])\n",
    "dp[\"b\"][0] = max(dp[\"b\"][0], b[0])\n",
    "dp[\"c\"][0] = max(dp[\"c\"][0], c[0])"
   ]
  },
  {
   "cell_type": "code",
   "execution_count": 58,
   "metadata": {},
   "outputs": [
    {
     "output_type": "execute_result",
     "data": {
      "text/plain": [
       "{'a': [1, -inf, -inf, -inf, -inf],\n",
       " 'b': [5, -inf, -inf, -inf, -inf],\n",
       " 'c': [3, -inf, -inf, -inf, -inf]}"
      ]
     },
     "metadata": {},
     "execution_count": 58
    }
   ],
   "source": [
    "dp"
   ]
  },
  {
   "cell_type": "code",
   "execution_count": 59,
   "metadata": {},
   "outputs": [],
   "source": [
    "for i in range(1,N):\n",
    "    dp[\"a\"][i] = max(dp[\"b\"][i-1], dp[\"c\"][i-1]) + a[i]\n",
    "    dp[\"b\"][i] = max(dp[\"a\"][i-1], dp[\"c\"][i-1]) + b[i]\n",
    "    dp[\"c\"][i] = max(dp[\"b\"][i-1], dp[\"a\"][i-1]) + c[i]"
   ]
  },
  {
   "cell_type": "code",
   "execution_count": 60,
   "metadata": {},
   "outputs": [],
   "source": [
    "dp_max = max(dp[\"a\"][N-1], dp[\"b\"][N-1], dp[\"c\"][N-1])"
   ]
  },
  {
   "cell_type": "code",
   "execution_count": 61,
   "metadata": {},
   "outputs": [
    {
     "output_type": "execute_result",
     "data": {
      "text/plain": [
       "19"
      ]
     },
     "metadata": {},
     "execution_count": 61
    }
   ],
   "source": [
    "dp_max"
   ]
  },
  {
   "cell_type": "code",
   "execution_count": null,
   "metadata": {},
   "outputs": [],
   "source": []
  }
 ]
}