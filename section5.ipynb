{
 "metadata": {
  "language_info": {
   "codemirror_mode": {
    "name": "ipython",
    "version": 3
   },
   "file_extension": ".py",
   "mimetype": "text/x-python",
   "name": "python",
   "nbconvert_exporter": "python",
   "pygments_lexer": "ipython3",
   "version": "3.7.1-final"
  },
  "orig_nbformat": 2,
  "kernelspec": {
   "name": "python3",
   "display_name": "Python 3"
  }
 },
 "nbformat": 4,
 "nbformat_minor": 2,
 "cells": [
  {
   "source": [
    "# 第5章 設計技法(3)：動的計画法"
   ],
   "cell_type": "markdown",
   "metadata": {}
  },
  {
   "source": [
    "## 5.1"
   ],
   "cell_type": "markdown",
   "metadata": {}
  },
  {
   "cell_type": "code",
   "execution_count": 1,
   "metadata": {},
   "outputs": [],
   "source": [
    "N = 5\n",
    "a = [1,2,3,4,5]\n",
    "b = [5,4,3,2,1]\n",
    "c = [3,3,3,3,3]"
   ]
  },
  {
   "cell_type": "code",
   "execution_count": 2,
   "metadata": {},
   "outputs": [],
   "source": [
    "# 配列準備\n",
    "dp = {\n",
    "    \"a\": [-float('inf') for i in range(N)],\n",
    "    \"b\": [-float('inf') for i in range(N)],\n",
    "    \"c\": [-float('inf') for i in range(N)]\n",
    "}\n",
    "\n",
    "# 初期条件\n",
    "dp[\"a\"][0] = max(dp[\"a\"][0], a[0])\n",
    "dp[\"b\"][0] = max(dp[\"b\"][0], b[0])\n",
    "dp[\"c\"][0] = max(dp[\"c\"][0], c[0])\n",
    "\n",
    "# DPループ\n",
    "for i in range(1,N):\n",
    "    dp[\"a\"][i] = max(dp[\"b\"][i-1], dp[\"c\"][i-1]) + a[i]\n",
    "    dp[\"b\"][i] = max(dp[\"a\"][i-1], dp[\"c\"][i-1]) + b[i]\n",
    "    dp[\"c\"][i] = max(dp[\"b\"][i-1], dp[\"a\"][i-1]) + c[i]\n",
    "\n",
    "dp_max = max(dp[\"a\"][N-1], dp[\"b\"][N-1], dp[\"c\"][N-1])"
   ]
  },
  {
   "cell_type": "code",
   "execution_count": 3,
   "metadata": {},
   "outputs": [
    {
     "output_type": "execute_result",
     "data": {
      "text/plain": [
       "19"
      ]
     },
     "metadata": {},
     "execution_count": 3
    }
   ],
   "source": [
    "dp_max"
   ]
  },
  {
   "source": [
    "## 5.2"
   ],
   "cell_type": "markdown",
   "metadata": {}
  },
  {
   "cell_type": "code",
   "execution_count": 9,
   "metadata": {},
   "outputs": [],
   "source": [
    "N = 5\n",
    "W = 10\n",
    "a = [2,3,4,1,8]"
   ]
  },
  {
   "cell_type": "code",
   "execution_count": 24,
   "metadata": {},
   "outputs": [],
   "source": [
    "# 配列準備\n",
    "dp = [[False for w in range(W)] for i in range(N)]\n",
    "\n",
    "# DPループ\n",
    "for i in range(N):\n",
    "    for w in range(W):\n",
    "        if i == 0:\n",
    "            dp[i][a[i]-1] = True\n",
    "        if (i > 0) and ((w-a[i] >= 0 and dp[i-1][w-a[i]]) or dp[i-1][w]):\n",
    "            dp[i][w] = True"
   ]
  },
  {
   "cell_type": "code",
   "execution_count": 26,
   "metadata": {},
   "outputs": [
    {
     "output_type": "execute_result",
     "data": {
      "text/plain": [
       "True"
      ]
     },
     "metadata": {},
     "execution_count": 26
    }
   ],
   "source": [
    "dp[N-1][W-1]"
   ]
  },
  {
   "source": [
    "## 5.3"
   ],
   "cell_type": "markdown",
   "metadata": {}
  },
  {
   "cell_type": "code",
   "execution_count": 48,
   "metadata": {},
   "outputs": [],
   "source": [
    "N = 5\n",
    "W = 10\n",
    "a = [2,3,4,1,8]"
   ]
  },
  {
   "source": [
    "# 配列準備\n",
    "dp = [[False for w in range(W)] for i in range(N)]\n",
    "\n",
    "# DPループ\n",
    "for i in range(N):\n",
    "    for w in range(W):\n",
    "        if i == 0:\n",
    "            dp[i][a[i]-1] = True\n",
    "        if (i > 0) and ((w-a[i] >= 0 and dp[i-1][w-a[i]]) or dp[i-1][w]):\n",
    "            dp[i][w] = True\n",
    "\n",
    "cnt = 0\n",
    "for val in dp[N-1]:\n",
    "    if val > 0:\n",
    "        cnt += 1"
   ],
   "cell_type": "code",
   "metadata": {},
   "execution_count": 51,
   "outputs": []
  },
  {
   "cell_type": "code",
   "execution_count": 52,
   "metadata": {},
   "outputs": [
    {
     "output_type": "execute_result",
     "data": {
      "text/plain": [
       "7"
      ]
     },
     "metadata": {},
     "execution_count": 52
    }
   ],
   "source": [
    "cnt"
   ]
  },
  {
   "source": [
    "## 5.4"
   ],
   "cell_type": "markdown",
   "metadata": {}
  },
  {
   "cell_type": "code",
   "execution_count": 46,
   "metadata": {},
   "outputs": [],
   "source": [
    "# dp[i][w] : a_0,...,a_{i-1} までの整数からいくつか選んだとき w に一致する選び方の中で、最小の個数。ただし、0のときは、一致するものはない。\n",
    "\n",
    "# 配列準備\n",
    "dp = [[0 for w in range(W)] for i in range(N)]\n",
    "\n",
    "# DPループ\n",
    "for i in range(N):\n",
    "    dp[i][a[i]-1] = dp[i][a[i]-1] + 1\n",
    "    for w in range(W):\n",
    "        if i > 0:\n",
    "            dp[i][w] = dp[i-1][w]\n",
    "            if (w-a[i] >= 0) and (dp[i-1][w-a[i]] > 0):\n",
    "                dp[i][w] = dp[i-1][w-a[i]] + 1"
   ]
  },
  {
   "cell_type": "code",
   "execution_count": 47,
   "metadata": {},
   "outputs": [
    {
     "output_type": "execute_result",
     "data": {
      "text/plain": [
       "[[0, 1, 0, 0, 0, 0, 0, 0, 0, 0],\n",
       " [0, 1, 0, 0, 2, 0, 0, 0, 0, 0],\n",
       " [0, 1, 0, 0, 2, 2, 0, 0, 3, 0],\n",
       " [0, 1, 2, 0, 2, 3, 3, 0, 3, 4],\n",
       " [0, 1, 2, 0, 2, 3, 3, 0, 3, 2]]"
      ]
     },
     "metadata": {},
     "execution_count": 47
    }
   ],
   "source": [
    "dp"
   ]
  },
  {
   "cell_type": "code",
   "execution_count": null,
   "metadata": {},
   "outputs": [],
   "source": []
  }
 ]
}